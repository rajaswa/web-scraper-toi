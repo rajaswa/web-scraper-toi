{
 "cells": [
  {
   "cell_type": "markdown",
   "metadata": {},
   "source": [
    "# Data"
   ]
  },
  {
   "cell_type": "code",
   "execution_count": 1,
   "metadata": {},
   "outputs": [],
   "source": [
    "from sklearn.feature_extraction.text import TfidfVectorizer\n",
    "from sklearn.cluster import KMeans\n",
    "import numpy as np\n",
    "import pandas as pd\n",
    "import matplotlib.pyplot as plt\n",
    "\n",
    "%matplotlib inline"
   ]
  },
  {
   "cell_type": "code",
   "execution_count": 2,
   "metadata": {},
   "outputs": [],
   "source": [
    "data = pd.read_csv('toi_2010_18.csv')"
   ]
  },
  {
   "cell_type": "code",
   "execution_count": 3,
   "metadata": {},
   "outputs": [
    {
     "data": {
      "text/plain": [
       "1228"
      ]
     },
     "execution_count": 3,
     "metadata": {},
     "output_type": "execute_result"
    }
   ],
   "source": [
    "len(data)"
   ]
  },
  {
   "cell_type": "code",
   "execution_count": 4,
   "metadata": {},
   "outputs": [
    {
     "data": {
      "text/html": [
       "<div>\n",
       "<style scoped>\n",
       "    .dataframe tbody tr th:only-of-type {\n",
       "        vertical-align: middle;\n",
       "    }\n",
       "\n",
       "    .dataframe tbody tr th {\n",
       "        vertical-align: top;\n",
       "    }\n",
       "\n",
       "    .dataframe thead th {\n",
       "        text-align: right;\n",
       "    }\n",
       "</style>\n",
       "<table border=\"1\" class=\"dataframe\">\n",
       "  <thead>\n",
       "    <tr style=\"text-align: right;\">\n",
       "      <th></th>\n",
       "      <th>DATE</th>\n",
       "      <th>AUTHOR</th>\n",
       "      <th>IMAGE</th>\n",
       "      <th>TEXT</th>\n",
       "      <th>KEYWORDS</th>\n",
       "      <th>SUMMARY</th>\n",
       "    </tr>\n",
       "  </thead>\n",
       "  <tbody>\n",
       "    <tr>\n",
       "      <th>0</th>\n",
       "      <td>8-1-2010</td>\n",
       "      <td>[]</td>\n",
       "      <td>https://static.toiimg.com/photo/msid-5423538/5...</td>\n",
       "      <td>Junali Devi, a widow living in Assam, is eager...</td>\n",
       "      <td>['hivaids', 'hiv', 'website', 'positive', 'spe...</td>\n",
       "      <td>Junali Devi, a widow living in Assam, is eager...</td>\n",
       "    </tr>\n",
       "    <tr>\n",
       "      <th>1</th>\n",
       "      <td>11-1-2010</td>\n",
       "      <td>['Karthika Gopalakrishnan']</td>\n",
       "      <td>https://static.toiimg.com/photo/msid-47529300/...</td>\n",
       "      <td>CHENNAI: Researchers working towards a cure fo...</td>\n",
       "      <td>['hiv', 'schooley', 'hopeful', 'research', 're...</td>\n",
       "      <td>These cells have a second molecule called CCR5...</td>\n",
       "    </tr>\n",
       "    <tr>\n",
       "      <th>2</th>\n",
       "      <td>12-1-2010</td>\n",
       "      <td>[]</td>\n",
       "      <td>https://static.toiimg.com/photo/msid-47529300/...</td>\n",
       "      <td>LUCKNOW: After running from the pillar to post...</td>\n",
       "      <td>['hiv', 'ngos', 'money', 'shelter', 'poonam', ...</td>\n",
       "      <td>The hapless woman was thrown out by her husban...</td>\n",
       "    </tr>\n",
       "    <tr>\n",
       "      <th>3</th>\n",
       "      <td>30-1-2010</td>\n",
       "      <td>[]</td>\n",
       "      <td>https://static.toiimg.com/photo/msid-47529300/...</td>\n",
       "      <td>BANGALORE: Nutrition, education and property r...</td>\n",
       "      <td>['hivaids', 'hiv', 'positive', 'aids', 'childr...</td>\n",
       "      <td>BANGALORE: Nutrition, education and property r...</td>\n",
       "    </tr>\n",
       "    <tr>\n",
       "      <th>4</th>\n",
       "      <td>1-2-2010</td>\n",
       "      <td>['Kounteya Sinha']</td>\n",
       "      <td>https://static.toiimg.com/photo/msid-47529300/...</td>\n",
       "      <td>NEW DELHI: A vaccine to protect HIV patients f...</td>\n",
       "      <td>['hiv', 'mv', 'aids', 'tb', 'hivinfected', 'pa...</td>\n",
       "      <td>NEW DELHI: A vaccine to protect HIV patients f...</td>\n",
       "    </tr>\n",
       "  </tbody>\n",
       "</table>\n",
       "</div>"
      ],
      "text/plain": [
       "        DATE                       AUTHOR  \\\n",
       "0   8-1-2010                           []   \n",
       "1  11-1-2010  ['Karthika Gopalakrishnan']   \n",
       "2  12-1-2010                           []   \n",
       "3  30-1-2010                           []   \n",
       "4   1-2-2010           ['Kounteya Sinha']   \n",
       "\n",
       "                                               IMAGE  \\\n",
       "0  https://static.toiimg.com/photo/msid-5423538/5...   \n",
       "1  https://static.toiimg.com/photo/msid-47529300/...   \n",
       "2  https://static.toiimg.com/photo/msid-47529300/...   \n",
       "3  https://static.toiimg.com/photo/msid-47529300/...   \n",
       "4  https://static.toiimg.com/photo/msid-47529300/...   \n",
       "\n",
       "                                                TEXT  \\\n",
       "0  Junali Devi, a widow living in Assam, is eager...   \n",
       "1  CHENNAI: Researchers working towards a cure fo...   \n",
       "2  LUCKNOW: After running from the pillar to post...   \n",
       "3  BANGALORE: Nutrition, education and property r...   \n",
       "4  NEW DELHI: A vaccine to protect HIV patients f...   \n",
       "\n",
       "                                            KEYWORDS  \\\n",
       "0  ['hivaids', 'hiv', 'website', 'positive', 'spe...   \n",
       "1  ['hiv', 'schooley', 'hopeful', 'research', 're...   \n",
       "2  ['hiv', 'ngos', 'money', 'shelter', 'poonam', ...   \n",
       "3  ['hivaids', 'hiv', 'positive', 'aids', 'childr...   \n",
       "4  ['hiv', 'mv', 'aids', 'tb', 'hivinfected', 'pa...   \n",
       "\n",
       "                                             SUMMARY  \n",
       "0  Junali Devi, a widow living in Assam, is eager...  \n",
       "1  These cells have a second molecule called CCR5...  \n",
       "2  The hapless woman was thrown out by her husban...  \n",
       "3  BANGALORE: Nutrition, education and property r...  \n",
       "4  NEW DELHI: A vaccine to protect HIV patients f...  "
      ]
     },
     "execution_count": 4,
     "metadata": {},
     "output_type": "execute_result"
    }
   ],
   "source": [
    "data.head()"
   ]
  },
  {
   "cell_type": "markdown",
   "metadata": {},
   "source": [
    "# K-means Clustering"
   ]
  },
  {
   "cell_type": "code",
   "execution_count": 5,
   "metadata": {},
   "outputs": [],
   "source": [
    "corpus = data['TEXT']"
   ]
  },
  {
   "cell_type": "code",
   "execution_count": 6,
   "metadata": {},
   "outputs": [],
   "source": [
    "vectorizer = TfidfVectorizer(stop_words='english')\n",
    "X = vectorizer.fit_transform(corpus)"
   ]
  },
  {
   "cell_type": "code",
   "execution_count": 7,
   "metadata": {},
   "outputs": [
    {
     "data": {
      "text/plain": [
       "KMeans(algorithm='auto', copy_x=True, init='k-means++', max_iter=100,\n",
       "    n_clusters=5, n_init=1, n_jobs=1, precompute_distances='auto',\n",
       "    random_state=None, tol=0.0001, verbose=0)"
      ]
     },
     "execution_count": 7,
     "metadata": {},
     "output_type": "execute_result"
    }
   ],
   "source": [
    "true_k = 5\n",
    "model = KMeans(n_clusters=true_k, init='k-means++', max_iter=100, n_init=1)\n",
    "model.fit(X)"
   ]
  },
  {
   "cell_type": "code",
   "execution_count": 8,
   "metadata": {},
   "outputs": [],
   "source": [
    "order_centroids = model.cluster_centers_.argsort()[:, ::-1]\n",
    "terms = vectorizer.get_feature_names()\n",
    "labels = model.predict(X)"
   ]
  },
  {
   "cell_type": "code",
   "execution_count": 9,
   "metadata": {
    "scrolled": true
   },
   "outputs": [
    {
     "name": "stdout",
     "output_type": "stream",
     "text": [
      "\n",
      "\n",
      "Cluster 0:\n",
      "\n",
      "\n",
      "hiv\n",
      "patients\n",
      "art\n",
      "aids\n",
      "said\n",
      "people\n",
      "treatment\n",
      "positive\n",
      "centres\n",
      "health\n",
      "\n",
      "\n",
      "Cluster 1:\n",
      "\n",
      "\n",
      "children\n",
      "hiv\n",
      "school\n",
      "said\n",
      "positive\n",
      "parents\n",
      "child\n",
      "students\n",
      "people\n",
      "aids\n",
      "\n",
      "\n",
      "Cluster 2:\n",
      "\n",
      "\n",
      "hiv\n",
      "sex\n",
      "aids\n",
      "cases\n",
      "women\n",
      "said\n",
      "state\n",
      "prevalence\n",
      "number\n",
      "positive\n",
      "\n",
      "\n",
      "Cluster 3:\n",
      "\n",
      "\n",
      "hospital\n",
      "police\n",
      "hiv\n",
      "woman\n",
      "said\n",
      "positive\n",
      "patient\n",
      "husband\n",
      "court\n",
      "medical\n",
      "\n",
      "\n",
      "Cluster 4:\n",
      "\n",
      "\n",
      "blood\n",
      "transfusion\n",
      "banks\n",
      "hiv\n",
      "cbi\n",
      "hospital\n",
      "bank\n",
      "test\n",
      "court\n",
      "probe\n"
     ]
    }
   ],
   "source": [
    "for i in range(true_k):\n",
    "    \n",
    "    print('\\n')\n",
    "    print(\"Cluster %d:\" % i)    \n",
    "    print('\\n')\n",
    "    \n",
    "    for ind in order_centroids[i, :10]:\n",
    "        print( '%s' % terms[ind])"
   ]
  },
  {
   "cell_type": "code",
   "execution_count": 10,
   "metadata": {},
   "outputs": [
    {
     "data": {
      "text/plain": [
       "1228"
      ]
     },
     "execution_count": 10,
     "metadata": {},
     "output_type": "execute_result"
    }
   ],
   "source": [
    "len(labels)"
   ]
  },
  {
   "cell_type": "code",
   "execution_count": 11,
   "metadata": {},
   "outputs": [],
   "source": [
    "kmeans = pd.DataFrame(labels)\n",
    "data.insert((data.shape[1]),'kmeans',kmeans)"
   ]
  },
  {
   "cell_type": "code",
   "execution_count": 12,
   "metadata": {},
   "outputs": [
    {
     "data": {
      "text/html": [
       "<div>\n",
       "<style scoped>\n",
       "    .dataframe tbody tr th:only-of-type {\n",
       "        vertical-align: middle;\n",
       "    }\n",
       "\n",
       "    .dataframe tbody tr th {\n",
       "        vertical-align: top;\n",
       "    }\n",
       "\n",
       "    .dataframe thead th {\n",
       "        text-align: right;\n",
       "    }\n",
       "</style>\n",
       "<table border=\"1\" class=\"dataframe\">\n",
       "  <thead>\n",
       "    <tr style=\"text-align: right;\">\n",
       "      <th></th>\n",
       "      <th>DATE</th>\n",
       "      <th>AUTHOR</th>\n",
       "      <th>IMAGE</th>\n",
       "      <th>TEXT</th>\n",
       "      <th>KEYWORDS</th>\n",
       "      <th>SUMMARY</th>\n",
       "      <th>kmeans</th>\n",
       "    </tr>\n",
       "  </thead>\n",
       "  <tbody>\n",
       "    <tr>\n",
       "      <th>0</th>\n",
       "      <td>8-1-2010</td>\n",
       "      <td>[]</td>\n",
       "      <td>https://static.toiimg.com/photo/msid-5423538/5...</td>\n",
       "      <td>Junali Devi, a widow living in Assam, is eager...</td>\n",
       "      <td>['hivaids', 'hiv', 'website', 'positive', 'spe...</td>\n",
       "      <td>Junali Devi, a widow living in Assam, is eager...</td>\n",
       "      <td>1</td>\n",
       "    </tr>\n",
       "    <tr>\n",
       "      <th>1</th>\n",
       "      <td>11-1-2010</td>\n",
       "      <td>['Karthika Gopalakrishnan']</td>\n",
       "      <td>https://static.toiimg.com/photo/msid-47529300/...</td>\n",
       "      <td>CHENNAI: Researchers working towards a cure fo...</td>\n",
       "      <td>['hiv', 'schooley', 'hopeful', 'research', 're...</td>\n",
       "      <td>These cells have a second molecule called CCR5...</td>\n",
       "      <td>0</td>\n",
       "    </tr>\n",
       "    <tr>\n",
       "      <th>2</th>\n",
       "      <td>12-1-2010</td>\n",
       "      <td>[]</td>\n",
       "      <td>https://static.toiimg.com/photo/msid-47529300/...</td>\n",
       "      <td>LUCKNOW: After running from the pillar to post...</td>\n",
       "      <td>['hiv', 'ngos', 'money', 'shelter', 'poonam', ...</td>\n",
       "      <td>The hapless woman was thrown out by her husban...</td>\n",
       "      <td>1</td>\n",
       "    </tr>\n",
       "    <tr>\n",
       "      <th>3</th>\n",
       "      <td>30-1-2010</td>\n",
       "      <td>[]</td>\n",
       "      <td>https://static.toiimg.com/photo/msid-47529300/...</td>\n",
       "      <td>BANGALORE: Nutrition, education and property r...</td>\n",
       "      <td>['hivaids', 'hiv', 'positive', 'aids', 'childr...</td>\n",
       "      <td>BANGALORE: Nutrition, education and property r...</td>\n",
       "      <td>1</td>\n",
       "    </tr>\n",
       "    <tr>\n",
       "      <th>4</th>\n",
       "      <td>1-2-2010</td>\n",
       "      <td>['Kounteya Sinha']</td>\n",
       "      <td>https://static.toiimg.com/photo/msid-47529300/...</td>\n",
       "      <td>NEW DELHI: A vaccine to protect HIV patients f...</td>\n",
       "      <td>['hiv', 'mv', 'aids', 'tb', 'hivinfected', 'pa...</td>\n",
       "      <td>NEW DELHI: A vaccine to protect HIV patients f...</td>\n",
       "      <td>0</td>\n",
       "    </tr>\n",
       "  </tbody>\n",
       "</table>\n",
       "</div>"
      ],
      "text/plain": [
       "        DATE                       AUTHOR  \\\n",
       "0   8-1-2010                           []   \n",
       "1  11-1-2010  ['Karthika Gopalakrishnan']   \n",
       "2  12-1-2010                           []   \n",
       "3  30-1-2010                           []   \n",
       "4   1-2-2010           ['Kounteya Sinha']   \n",
       "\n",
       "                                               IMAGE  \\\n",
       "0  https://static.toiimg.com/photo/msid-5423538/5...   \n",
       "1  https://static.toiimg.com/photo/msid-47529300/...   \n",
       "2  https://static.toiimg.com/photo/msid-47529300/...   \n",
       "3  https://static.toiimg.com/photo/msid-47529300/...   \n",
       "4  https://static.toiimg.com/photo/msid-47529300/...   \n",
       "\n",
       "                                                TEXT  \\\n",
       "0  Junali Devi, a widow living in Assam, is eager...   \n",
       "1  CHENNAI: Researchers working towards a cure fo...   \n",
       "2  LUCKNOW: After running from the pillar to post...   \n",
       "3  BANGALORE: Nutrition, education and property r...   \n",
       "4  NEW DELHI: A vaccine to protect HIV patients f...   \n",
       "\n",
       "                                            KEYWORDS  \\\n",
       "0  ['hivaids', 'hiv', 'website', 'positive', 'spe...   \n",
       "1  ['hiv', 'schooley', 'hopeful', 'research', 're...   \n",
       "2  ['hiv', 'ngos', 'money', 'shelter', 'poonam', ...   \n",
       "3  ['hivaids', 'hiv', 'positive', 'aids', 'childr...   \n",
       "4  ['hiv', 'mv', 'aids', 'tb', 'hivinfected', 'pa...   \n",
       "\n",
       "                                             SUMMARY  kmeans  \n",
       "0  Junali Devi, a widow living in Assam, is eager...       1  \n",
       "1  These cells have a second molecule called CCR5...       0  \n",
       "2  The hapless woman was thrown out by her husban...       1  \n",
       "3  BANGALORE: Nutrition, education and property r...       1  \n",
       "4  NEW DELHI: A vaccine to protect HIV patients f...       0  "
      ]
     },
     "execution_count": 12,
     "metadata": {},
     "output_type": "execute_result"
    }
   ],
   "source": [
    "data.head()"
   ]
  },
  {
   "cell_type": "code",
   "execution_count": 13,
   "metadata": {},
   "outputs": [],
   "source": [
    "data.to_csv('kmean.csv')"
   ]
  },
  {
   "cell_type": "code",
   "execution_count": null,
   "metadata": {},
   "outputs": [],
   "source": []
  },
  {
   "cell_type": "code",
   "execution_count": null,
   "metadata": {},
   "outputs": [],
   "source": []
  }
 ],
 "metadata": {
  "kernelspec": {
   "display_name": "Python 3",
   "language": "python",
   "name": "python3"
  },
  "language_info": {
   "codemirror_mode": {
    "name": "ipython",
    "version": 3
   },
   "file_extension": ".py",
   "mimetype": "text/x-python",
   "name": "python",
   "nbconvert_exporter": "python",
   "pygments_lexer": "ipython3",
   "version": "3.6.4"
  }
 },
 "nbformat": 4,
 "nbformat_minor": 2
}
