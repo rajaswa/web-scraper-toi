{
 "cells": [
  {
   "cell_type": "code",
   "execution_count": 1,
   "metadata": {},
   "outputs": [],
   "source": [
    "import numpy as np\n",
    "import pandas as pd\n",
    "import nltk\n",
    "import re\n",
    "import os\n",
    "import codecs\n",
    "from sklearn import feature_extraction\n",
    "import mpld3\n",
    "\n",
    "import matplotlib.pyplot as plt\n",
    "%matplotlib inline"
   ]
  },
  {
   "cell_type": "code",
   "execution_count": 2,
   "metadata": {},
   "outputs": [],
   "source": [
    "data = pd.read_csv('toi_2010_18.csv')"
   ]
  },
  {
   "cell_type": "code",
   "execution_count": 3,
   "metadata": {},
   "outputs": [
    {
     "data": {
      "text/html": [
       "<div>\n",
       "<style scoped>\n",
       "    .dataframe tbody tr th:only-of-type {\n",
       "        vertical-align: middle;\n",
       "    }\n",
       "\n",
       "    .dataframe tbody tr th {\n",
       "        vertical-align: top;\n",
       "    }\n",
       "\n",
       "    .dataframe thead th {\n",
       "        text-align: right;\n",
       "    }\n",
       "</style>\n",
       "<table border=\"1\" class=\"dataframe\">\n",
       "  <thead>\n",
       "    <tr style=\"text-align: right;\">\n",
       "      <th></th>\n",
       "      <th>DATE</th>\n",
       "      <th>AUTHOR</th>\n",
       "      <th>IMAGE</th>\n",
       "      <th>TEXT</th>\n",
       "      <th>KEYWORDS</th>\n",
       "      <th>SUMMARY</th>\n",
       "    </tr>\n",
       "  </thead>\n",
       "  <tbody>\n",
       "    <tr>\n",
       "      <th>0</th>\n",
       "      <td>8-1-2010</td>\n",
       "      <td>[]</td>\n",
       "      <td>https://static.toiimg.com/photo/msid-5423538/5...</td>\n",
       "      <td>Junali Devi, a widow living in Assam, is eager...</td>\n",
       "      <td>['hivaids', 'hiv', 'website', 'positive', 'spe...</td>\n",
       "      <td>Junali Devi, a widow living in Assam, is eager...</td>\n",
       "    </tr>\n",
       "    <tr>\n",
       "      <th>1</th>\n",
       "      <td>11-1-2010</td>\n",
       "      <td>['Karthika Gopalakrishnan']</td>\n",
       "      <td>https://static.toiimg.com/photo/msid-47529300/...</td>\n",
       "      <td>CHENNAI: Researchers working towards a cure fo...</td>\n",
       "      <td>['hiv', 'schooley', 'hopeful', 'research', 're...</td>\n",
       "      <td>These cells have a second molecule called CCR5...</td>\n",
       "    </tr>\n",
       "    <tr>\n",
       "      <th>2</th>\n",
       "      <td>12-1-2010</td>\n",
       "      <td>[]</td>\n",
       "      <td>https://static.toiimg.com/photo/msid-47529300/...</td>\n",
       "      <td>LUCKNOW: After running from the pillar to post...</td>\n",
       "      <td>['hiv', 'ngos', 'money', 'shelter', 'poonam', ...</td>\n",
       "      <td>The hapless woman was thrown out by her husban...</td>\n",
       "    </tr>\n",
       "    <tr>\n",
       "      <th>3</th>\n",
       "      <td>30-1-2010</td>\n",
       "      <td>[]</td>\n",
       "      <td>https://static.toiimg.com/photo/msid-47529300/...</td>\n",
       "      <td>BANGALORE: Nutrition, education and property r...</td>\n",
       "      <td>['hivaids', 'hiv', 'positive', 'aids', 'childr...</td>\n",
       "      <td>BANGALORE: Nutrition, education and property r...</td>\n",
       "    </tr>\n",
       "    <tr>\n",
       "      <th>4</th>\n",
       "      <td>1-2-2010</td>\n",
       "      <td>['Kounteya Sinha']</td>\n",
       "      <td>https://static.toiimg.com/photo/msid-47529300/...</td>\n",
       "      <td>NEW DELHI: A vaccine to protect HIV patients f...</td>\n",
       "      <td>['hiv', 'mv', 'aids', 'tb', 'hivinfected', 'pa...</td>\n",
       "      <td>NEW DELHI: A vaccine to protect HIV patients f...</td>\n",
       "    </tr>\n",
       "  </tbody>\n",
       "</table>\n",
       "</div>"
      ],
      "text/plain": [
       "        DATE                       AUTHOR  \\\n",
       "0   8-1-2010                           []   \n",
       "1  11-1-2010  ['Karthika Gopalakrishnan']   \n",
       "2  12-1-2010                           []   \n",
       "3  30-1-2010                           []   \n",
       "4   1-2-2010           ['Kounteya Sinha']   \n",
       "\n",
       "                                               IMAGE  \\\n",
       "0  https://static.toiimg.com/photo/msid-5423538/5...   \n",
       "1  https://static.toiimg.com/photo/msid-47529300/...   \n",
       "2  https://static.toiimg.com/photo/msid-47529300/...   \n",
       "3  https://static.toiimg.com/photo/msid-47529300/...   \n",
       "4  https://static.toiimg.com/photo/msid-47529300/...   \n",
       "\n",
       "                                                TEXT  \\\n",
       "0  Junali Devi, a widow living in Assam, is eager...   \n",
       "1  CHENNAI: Researchers working towards a cure fo...   \n",
       "2  LUCKNOW: After running from the pillar to post...   \n",
       "3  BANGALORE: Nutrition, education and property r...   \n",
       "4  NEW DELHI: A vaccine to protect HIV patients f...   \n",
       "\n",
       "                                            KEYWORDS  \\\n",
       "0  ['hivaids', 'hiv', 'website', 'positive', 'spe...   \n",
       "1  ['hiv', 'schooley', 'hopeful', 'research', 're...   \n",
       "2  ['hiv', 'ngos', 'money', 'shelter', 'poonam', ...   \n",
       "3  ['hivaids', 'hiv', 'positive', 'aids', 'childr...   \n",
       "4  ['hiv', 'mv', 'aids', 'tb', 'hivinfected', 'pa...   \n",
       "\n",
       "                                             SUMMARY  \n",
       "0  Junali Devi, a widow living in Assam, is eager...  \n",
       "1  These cells have a second molecule called CCR5...  \n",
       "2  The hapless woman was thrown out by her husban...  \n",
       "3  BANGALORE: Nutrition, education and property r...  \n",
       "4  NEW DELHI: A vaccine to protect HIV patients f...  "
      ]
     },
     "execution_count": 3,
     "metadata": {},
     "output_type": "execute_result"
    }
   ],
   "source": [
    "data.head()"
   ]
  },
  {
   "cell_type": "code",
   "execution_count": 4,
   "metadata": {},
   "outputs": [],
   "source": [
    "corpus = data['TEXT']"
   ]
  },
  {
   "cell_type": "code",
   "execution_count": 5,
   "metadata": {},
   "outputs": [],
   "source": [
    "# load nltk's English stopwords as variable called 'stopwords'\n",
    "#nltk.download('stopwords')\n",
    "stopwords = nltk.corpus.stopwords.words('english')"
   ]
  },
  {
   "cell_type": "code",
   "execution_count": 6,
   "metadata": {},
   "outputs": [],
   "source": [
    "# load nltk's SnowballStemmer as variabled 'stemmer'\n",
    "from nltk.stem.snowball import SnowballStemmer\n",
    "stemmer = SnowballStemmer(\"english\")"
   ]
  },
  {
   "cell_type": "code",
   "execution_count": 7,
   "metadata": {},
   "outputs": [],
   "source": [
    "# here I define a tokenizer and stemmer which returns the set of stems in the text that it is passed\n",
    "\n",
    "def tokenize_and_stem(text):\n",
    "    # first tokenize by sentence, then by word to ensure that punctuation is caught as it's own token\n",
    "    tokens = [word for sent in nltk.sent_tokenize(text) for word in nltk.word_tokenize(sent)]\n",
    "    filtered_tokens = []\n",
    "    # filter out any tokens not containing letters (e.g., numeric tokens, raw punctuation)\n",
    "    for token in tokens:\n",
    "        if re.search('[a-zA-Z]', token):\n",
    "            filtered_tokens.append(token)\n",
    "    stems = [stemmer.stem(t) for t in filtered_tokens]\n",
    "    return stems\n",
    "\n",
    "\n",
    "def tokenize_only(text):\n",
    "    # first tokenize by sentence, then by word to ensure that punctuation is caught as it's own token\n",
    "    tokens = [word.lower() for sent in nltk.sent_tokenize(text) for word in nltk.word_tokenize(sent)]\n",
    "    filtered_tokens = []\n",
    "    # filter out any tokens not containing letters (e.g., numeric tokens, raw punctuation)\n",
    "    for token in tokens:\n",
    "        if re.search('[a-zA-Z]', token):\n",
    "            filtered_tokens.append(token)\n",
    "    return filtered_tokens"
   ]
  },
  {
   "cell_type": "code",
   "execution_count": 8,
   "metadata": {},
   "outputs": [],
   "source": [
    "#not super pythonic, no, not at all.\n",
    "#use extend so it's a big flat list of vocab\n",
    "totalvocab_stemmed = []\n",
    "totalvocab_tokenized = []\n",
    "for i in corpus:\n",
    "    allwords_stemmed = tokenize_and_stem(i) #for each item in 'synopses', tokenize/stem\n",
    "    totalvocab_stemmed.extend(allwords_stemmed) #extend the 'totalvocab_stemmed' list\n",
    "    \n",
    "    allwords_tokenized = tokenize_only(i)\n",
    "    totalvocab_tokenized.extend(allwords_tokenized)"
   ]
  },
  {
   "cell_type": "code",
   "execution_count": 9,
   "metadata": {},
   "outputs": [
    {
     "name": "stdout",
     "output_type": "stream",
     "text": [
      "there are 429437 items in vocab_frame\n"
     ]
    }
   ],
   "source": [
    "vocab_frame = pd.DataFrame({'words': totalvocab_tokenized}, index = totalvocab_stemmed)\n",
    "print ('there are ' + str(vocab_frame.shape[0]) + ' items in vocab_frame')"
   ]
  },
  {
   "cell_type": "markdown",
   "metadata": {},
   "source": [
    "# TFIDF "
   ]
  },
  {
   "cell_type": "code",
   "execution_count": 10,
   "metadata": {},
   "outputs": [
    {
     "name": "stdout",
     "output_type": "stream",
     "text": [
      "CPU times: user 11.9 s, sys: 64 ms, total: 11.9 s\n",
      "Wall time: 11.9 s\n",
      "(1228, 79)\n"
     ]
    }
   ],
   "source": [
    "from sklearn.feature_extraction.text import TfidfVectorizer\n",
    "\n",
    "#define vectorizer parameters\n",
    "tfidf_vectorizer = TfidfVectorizer(max_df=0.8, max_features=200000,\n",
    "                                 min_df=0.2, stop_words='english',\n",
    "                                 use_idf=True, tokenizer=tokenize_and_stem, ngram_range=(1,3))\n",
    "\n",
    "%time tfidf_matrix = tfidf_vectorizer.fit_transform(corpus) #fit the vectorizer to synopses\n",
    "\n",
    "print(tfidf_matrix.shape)\n"
   ]
  },
  {
   "cell_type": "code",
   "execution_count": 11,
   "metadata": {},
   "outputs": [],
   "source": [
    "terms = tfidf_vectorizer.get_feature_names()"
   ]
  },
  {
   "cell_type": "code",
   "execution_count": 12,
   "metadata": {},
   "outputs": [],
   "source": [
    "from sklearn.metrics.pairwise import cosine_similarity\n",
    "dist = 1 - cosine_similarity(tfidf_matrix)\n"
   ]
  },
  {
   "cell_type": "markdown",
   "metadata": {},
   "source": [
    "# K-means Clustering"
   ]
  },
  {
   "cell_type": "code",
   "execution_count": 13,
   "metadata": {},
   "outputs": [
    {
     "name": "stdout",
     "output_type": "stream",
     "text": [
      "CPU times: user 2.92 s, sys: 4 ms, total: 2.92 s\n",
      "Wall time: 2.93 s\n"
     ]
    }
   ],
   "source": [
    "from sklearn.cluster import KMeans\n",
    "\n",
    "num_clusters = 5\n",
    "\n",
    "km = KMeans(n_clusters=num_clusters)\n",
    "\n",
    "%time km.fit(tfidf_matrix)\n",
    "\n",
    "clusters = km.labels_.tolist()"
   ]
  },
  {
   "cell_type": "code",
   "execution_count": 14,
   "metadata": {},
   "outputs": [
    {
     "data": {
      "text/plain": [
       "\"from sklearn.externals import joblib\\n\\n#uncomment the below to save your model \\n#since I've already run my model I am loading from the pickle\\n\\n#joblib.dump(km,  'doc_cluster.pkl')\\n\\nkm = joblib.load('doc_cluster.pkl')\\nclusters = km.labels_.tolist()\""
      ]
     },
     "execution_count": 14,
     "metadata": {},
     "output_type": "execute_result"
    }
   ],
   "source": [
    "'''from sklearn.externals import joblib\n",
    "\n",
    "#uncomment the below to save your model \n",
    "#since I've already run my model I am loading from the pickle\n",
    "\n",
    "#joblib.dump(km,  'doc_cluster.pkl')\n",
    "\n",
    "km = joblib.load('doc_cluster.pkl')\n",
    "clusters = km.labels_.tolist()'''"
   ]
  },
  {
   "cell_type": "code",
   "execution_count": 15,
   "metadata": {},
   "outputs": [],
   "source": [
    "data['clusters'] = clusters"
   ]
  },
  {
   "cell_type": "code",
   "execution_count": 16,
   "metadata": {},
   "outputs": [],
   "source": [
    "ID = str(list(range(0, 1228)))\n",
    "data['ID'] = ID"
   ]
  },
  {
   "cell_type": "code",
   "execution_count": 17,
   "metadata": {},
   "outputs": [
    {
     "data": {
      "text/plain": [
       "3    416\n",
       "0    324\n",
       "4    240\n",
       "1    134\n",
       "2    114\n",
       "Name: clusters, dtype: int64"
      ]
     },
     "execution_count": 17,
     "metadata": {},
     "output_type": "execute_result"
    }
   ],
   "source": [
    "data['clusters'].value_counts()"
   ]
  },
  {
   "cell_type": "code",
   "execution_count": 18,
   "metadata": {
    "scrolled": true
   },
   "outputs": [
    {
     "name": "stdout",
     "output_type": "stream",
     "text": [
      "\n",
      "\n",
      "Cluster 0:\n",
      "\n",
      "\n",
      "test\n",
      "posit\n",
      "hiv posit\n",
      "'s\n",
      "peopl\n",
      "case\n",
      "district\n",
      "women\n",
      "year\n",
      "hospit\n",
      "\n",
      "\n",
      "Cluster 1:\n",
      "\n",
      "\n",
      "children\n",
      "live\n",
      "posit\n",
      "hiv posit\n",
      "state\n",
      "care\n",
      "govern\n",
      "'s\n",
      "district\n",
      "year\n",
      "\n",
      "\n",
      "Cluster 2:\n",
      "\n",
      "\n",
      "blood\n",
      "test\n",
      "hospit\n",
      "infect\n",
      "case\n",
      "virus\n",
      "report\n",
      "patient\n",
      "govern\n",
      "'s\n",
      "\n",
      "\n",
      "Cluster 3:\n",
      "\n",
      "\n",
      "infect\n",
      "peopl\n",
      "aid\n",
      "state\n",
      "virus\n",
      "drug\n",
      "new\n",
      "health\n",
      "india\n",
      "use\n",
      "\n",
      "\n",
      "Cluster 4:\n",
      "\n",
      "\n",
      "patient\n",
      "hospit\n",
      "art\n",
      "centr\n",
      "treatment\n",
      "doctor\n",
      "medic\n",
      "dr\n",
      "posit\n",
      "drug\n"
     ]
    }
   ],
   "source": [
    "order_centroids = km.cluster_centers_.argsort()[:, ::-1] \n",
    "\n",
    "for i in range(num_clusters):\n",
    "    \n",
    "    print('\\n')\n",
    "    print(\"Cluster %d:\" % i)    \n",
    "    print('\\n')\n",
    "    \n",
    "    for ind in order_centroids[i, :10]:\n",
    "        print( '%s' % terms[ind])"
   ]
  },
  {
   "cell_type": "code",
   "execution_count": 26,
   "metadata": {
    "scrolled": false
   },
   "outputs": [
    {
     "data": {
      "image/png": "[encoded data removed]",
      "text/plain": [
       "<matplotlib.figure.Figure at 0x7ff6d830a748>"
      ]
     },
     "metadata": {},
     "output_type": "display_data"
    }
   ],
   "source": [
    "from scipy.cluster.hierarchy import ward, dendrogram\n",
    "\n",
    "linkage_matrix = ward(dist) #define the linkage_matrix using ward clustering pre-computed distances\n",
    "\n",
    "fig, ax = plt.subplots(figsize=(15, 20)) # set size\n",
    "ax = dendrogram(linkage_matrix, orientation=\"right\", labels=np.zeros(len(corpus)))\n",
    "\n",
    "plt.tick_params(\\\n",
    "    axis= 'x',          # changes apply to the x-axis\n",
    "    which='both',      # both major and minor ticks are affected\n",
    "    bottom='off',      # ticks along the bottom edge are off\n",
    "    top='off',         # ticks along the top edge are off\n",
    "    labelbottom='off')\n",
    "plt.savefig('ward_clusters.png', dpi=200)\n",
    "plt.tight_layout() #show plot with tight layout\n",
    "#plt.show()\n",
    "#uncomment below to save figure\n",
    "#plt.savefig('ward_clusters.png', dpi=200) #save figure as ward_cluster"
   ]
  },
  {
   "cell_type": "markdown",
   "metadata": {},
   "source": [
    "# Latent Dirichlet Allocation¶"
   ]
  },
  {
   "cell_type": "code",
   "execution_count": 28,
   "metadata": {},
   "outputs": [],
   "source": [
    "#strip any proper names from a text...unfortunately right now this is yanking the first word from a sentence too.\n",
    "import string\n",
    "def strip_proppers(text):\n",
    "    # first tokenize by sentence, then by word to ensure that punctuation is caught as it's own token\n",
    "    tokens = [word for sent in nltk.sent_tokenize(text) for word in nltk.word_tokenize(sent) if word.islower()]\n",
    "    return \"\".join([\" \"+i if not i.startswith(\"'\") and i not in string.punctuation else i for i in tokens]).strip()"
   ]
  },
  {
   "cell_type": "code",
   "execution_count": 29,
   "metadata": {},
   "outputs": [],
   "source": [
    "#strip any proper nouns (NNP) or plural proper nouns (NNPS) from a text\n",
    "from nltk.tag import pos_tag\n",
    "\n",
    "def strip_proppers_POS(text):\n",
    "    tagged = pos_tag(text.split()) #use NLTK's part of speech tagger\n",
    "    non_propernouns = [word for word,pos in tagged if pos != 'NNP' and pos != 'NNPS']\n",
    "    return non_propernouns"
   ]
  },
  {
   "cell_type": "code",
   "execution_count": 30,
   "metadata": {},
   "outputs": [
    {
     "name": "stdout",
     "output_type": "stream",
     "text": [
      "CPU times: user 4.84 s, sys: 28 ms, total: 4.87 s\n",
      "Wall time: 4.93 s\n",
      "CPU times: user 6.96 s, sys: 88 ms, total: 7.04 s\n",
      "Wall time: 7.13 s\n",
      "CPU times: user 728 ms, sys: 8 ms, total: 736 ms\n",
      "Wall time: 739 ms\n"
     ]
    }
   ],
   "source": [
    "from gensim import corpora, models, similarities \n",
    "\n",
    "#remove proper names\n",
    "%time preprocess = [strip_proppers(doc) for doc in corpus]\n",
    "\n",
    "#tokenize\n",
    "%time tokenized_text = [tokenize_and_stem(text) for text in preprocess]\n",
    "\n",
    "#remove stop words\n",
    "%time texts = [[word for word in text if word not in stopwords] for text in tokenized_text]"
   ]
  },
  {
   "cell_type": "code",
   "execution_count": 31,
   "metadata": {},
   "outputs": [],
   "source": [
    "#create a Gensim dictionary from the texts\n",
    "dictionary = corpora.Dictionary(texts)\n",
    "\n",
    "#remove extremes (similar to the min/max df step used when creating the tf-idf matrix)\n",
    "dictionary.filter_extremes(no_below=1, no_above=0.8)\n",
    "\n",
    "#convert the dictionary to a bag of words corpus for reference\n",
    "corpus_bow = [dictionary.doc2bow(text) for text in texts]"
   ]
  },
  {
   "cell_type": "code",
   "execution_count": 34,
   "metadata": {},
   "outputs": [
    {
     "name": "stdout",
     "output_type": "stream",
     "text": [
      "CPU times: user 3min 9s, sys: 16 ms, total: 3min 9s\n",
      "Wall time: 3min 9s\n"
     ]
    }
   ],
   "source": [
    "%time lda = models.LdaModel(corpus_bow, num_topics=5, id2word=dictionary, update_every=5, chunksize=10000, passes=100)"
   ]
  },
  {
   "cell_type": "code",
   "execution_count": 35,
   "metadata": {},
   "outputs": [
    {
     "data": {
      "text/plain": [
       "[(0,\n",
       "  '0.017*\"hospit\" + 0.016*\"patient\" + 0.010*\"posit\" + 0.009*\"woman\" + 0.009*\"doctor\" + 0.009*\"medic\" + 0.009*\"\\'s\" + 0.008*\"polic\" + 0.007*\"famili\" + 0.007*\"husband\"'),\n",
       " (1,\n",
       "  '0.020*\"peopl\" + 0.019*\"test\" + 0.015*\"posit\" + 0.013*\"centr\" + 0.012*\"state\" + 0.011*\"patient\" + 0.010*\"case\" + 0.010*\"district\" + 0.009*\"number\" + 0.009*\"health\"'),\n",
       " (2,\n",
       "  '0.029*\"children\" + 0.026*\"blood\" + 0.013*\"test\" + 0.012*\"school\" + 0.011*\"child\" + 0.011*\"infect\" + 0.010*\"posit\" + 0.010*\"mother\" + 0.010*\"parent\" + 0.008*\"transfus\"'),\n",
       " (3,\n",
       "  '0.019*\"infect\" + 0.015*\"virus\" + 0.015*\"patient\" + 0.015*\"drug\" + 0.010*\"treatment\" + 0.008*\"new\" + 0.008*\"studi\" + 0.007*\"cell\" + 0.007*\"use\" + 0.006*\"peopl\"'),\n",
       " (4,\n",
       "  '0.028*\"sex\" + 0.019*\"among\" + 0.016*\"worker\" + 0.015*\"preval\" + 0.014*\"men\" + 0.012*\"state\" + 0.012*\"high\" + 0.011*\"year\" + 0.008*\"sexual\" + 0.008*\"infect\"')]"
      ]
     },
     "execution_count": 35,
     "metadata": {},
     "output_type": "execute_result"
    }
   ],
   "source": [
    "lda.show_topics()"
   ]
  },
  {
   "cell_type": "code",
   "execution_count": 52,
   "metadata": {},
   "outputs": [
    {
     "data": {
      "text/plain": [
       "'topics_matrix = np.array(topics_matrix)\\n\\ntopic_words = topics_matrix[:,:,1]\\nfor i in topic_words:\\n    print([str(word) for word in i])\\n    print()'"
      ]
     },
     "execution_count": 52,
     "metadata": {},
     "output_type": "execute_result"
    }
   ],
   "source": [
    "topics_matrix = lda.show_topics(formatted=False, num_words=20)\n",
    "'''topics_matrix = np.array(topics_matrix)\n",
    "\n",
    "topic_words = topics_matrix[:,:,1]\n",
    "for i in topic_words:\n",
    "    print([str(word) for word in i])\n",
    "    print()'''\n",
    "\n",
    "#for i in range"
   ]
  },
  {
   "cell_type": "code",
   "execution_count": 54,
   "metadata": {},
   "outputs": [
    {
     "data": {
      "text/plain": [
       "[(0,\n",
       "  [('hospit', 0.01672098),\n",
       "   ('patient', 0.01566928),\n",
       "   ('posit', 0.010242492),\n",
       "   ('woman', 0.009367754),\n",
       "   ('doctor', 0.009104535),\n",
       "   ('medic', 0.009065249),\n",
       "   (\"'s\", 0.008623805),\n",
       "   ('polic', 0.008275199),\n",
       "   ('famili', 0.0070295325),\n",
       "   ('husband', 0.0068002935),\n",
       "   ('test', 0.0061585666),\n",
       "   ('treatment', 0.0061373697),\n",
       "   ('also', 0.005716172),\n",
       "   ('report', 0.00563402),\n",
       "   ('told', 0.005519625),\n",
       "   ('alleg', 0.005346895),\n",
       "   ('ask', 0.0049371943),\n",
       "   ('case', 0.004911922),\n",
       "   ('would', 0.004845531),\n",
       "   ('two', 0.0048310827)]),\n",
       " (1,\n",
       "  [('peopl', 0.020363407),\n",
       "   ('test', 0.01892579),\n",
       "   ('posit', 0.015246991),\n",
       "   ('centr', 0.012578322),\n",
       "   ('state', 0.012078756),\n",
       "   ('patient', 0.0110293375),\n",
       "   ('case', 0.0101225),\n",
       "   ('district', 0.009700607),\n",
       "   ('number', 0.0093120225),\n",
       "   ('health', 0.009074151),\n",
       "   ('also', 0.00895092),\n",
       "   ('year', 0.008839393),\n",
       "   ('govern', 0.0080328435),\n",
       "   ('women', 0.0075533874),\n",
       "   ('infect', 0.007291588),\n",
       "   ('awar', 0.0072338944),\n",
       "   ('live', 0.006893148),\n",
       "   ('treatment', 0.00632943),\n",
       "   ('provid', 0.0060324157),\n",
       "   ('programm', 0.0060080374)]),\n",
       " (2,\n",
       "  [('children', 0.029168006),\n",
       "   ('blood', 0.02565352),\n",
       "   ('test', 0.0131369345),\n",
       "   ('school', 0.011788974),\n",
       "   ('child', 0.011215503),\n",
       "   ('infect', 0.0108561),\n",
       "   ('posit', 0.010019534),\n",
       "   ('mother', 0.009689249),\n",
       "   ('parent', 0.009687141),\n",
       "   ('transfus', 0.0078100953),\n",
       "   ('bank', 0.007448437),\n",
       "   ('year', 0.0066817747),\n",
       "   (\"'s\", 0.0063667707),\n",
       "   ('girl', 0.006339033),\n",
       "   ('babi', 0.006176628),\n",
       "   ('also', 0.00594452),\n",
       "   ('student', 0.0054827924),\n",
       "   ('say', 0.005300665),\n",
       "   ('one', 0.0050839265),\n",
       "   ('govern', 0.0048792916)]),\n",
       " (3,\n",
       "  [('infect', 0.018805092),\n",
       "   ('virus', 0.014761212),\n",
       "   ('patient', 0.01463189),\n",
       "   ('drug', 0.014611903),\n",
       "   ('treatment', 0.010450402),\n",
       "   ('new', 0.007876726),\n",
       "   ('studi', 0.007876687),\n",
       "   ('cell', 0.007419501),\n",
       "   ('use', 0.0068551465),\n",
       "   ('peopl', 0.0061746673),\n",
       "   ('research', 0.005831726),\n",
       "   ('immun', 0.005361981),\n",
       "   ('year', 0.0053046755),\n",
       "   (\"'s\", 0.0049177194),\n",
       "   ('first', 0.004834051),\n",
       "   ('therapi', 0.0046369913),\n",
       "   ('countri', 0.004522635),\n",
       "   ('medicin', 0.0044802395),\n",
       "   ('viral', 0.0043750457),\n",
       "   ('prevent', 0.0043450478)]),\n",
       " (4,\n",
       "  [('sex', 0.027642984),\n",
       "   ('among', 0.019010406),\n",
       "   ('worker', 0.015549069),\n",
       "   ('preval', 0.014537347),\n",
       "   ('men', 0.013994094),\n",
       "   ('state', 0.012041239),\n",
       "   ('high', 0.011980874),\n",
       "   ('year', 0.011428666),\n",
       "   ('sexual', 0.008495244),\n",
       "   ('infect', 0.007917218),\n",
       "   ('popul', 0.007656649),\n",
       "   ('case', 0.0073735085),\n",
       "   ('group', 0.007176761),\n",
       "   ('prison', 0.006840739),\n",
       "   ('work', 0.006654726),\n",
       "   ('condom', 0.0066277394),\n",
       "   ('femal', 0.0062295543),\n",
       "   ('migrant', 0.006206697),\n",
       "   ('risk', 0.0061404444),\n",
       "   ('spread', 0.0055407267)])]"
      ]
     },
     "execution_count": 54,
     "metadata": {},
     "output_type": "execute_result"
    }
   ],
   "source": [
    "topics_matrix"
   ]
  },
  {
   "cell_type": "code",
   "execution_count": null,
   "metadata": {},
   "outputs": [],
   "source": []
  }
 ],
 "metadata": {
  "kernelspec": {
   "display_name": "Python 3",
   "language": "python",
   "name": "python3"
  },
  "language_info": {
   "codemirror_mode": {
    "name": "ipython",
    "version": 3
   },
   "file_extension": ".py",
   "mimetype": "text/x-python",
   "name": "python",
   "nbconvert_exporter": "python",
   "pygments_lexer": "ipython3",
   "version": "3.6.4"
  }
 },
 "nbformat": 4,
 "nbformat_minor": 2
}
